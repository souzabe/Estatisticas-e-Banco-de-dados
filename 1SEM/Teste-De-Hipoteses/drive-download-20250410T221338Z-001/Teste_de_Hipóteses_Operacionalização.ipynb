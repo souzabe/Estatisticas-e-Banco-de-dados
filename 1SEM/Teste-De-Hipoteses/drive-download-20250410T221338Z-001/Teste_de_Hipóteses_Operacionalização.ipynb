{
  "nbformat": 4,
  "nbformat_minor": 0,
  "metadata": {
    "colab": {
      "provenance": []
    },
    "kernelspec": {
      "name": "python3",
      "display_name": "Python 3"
    },
    "language_info": {
      "name": "python"
    }
  },
  "cells": [
    {
      "cell_type": "code",
      "execution_count": null,
      "metadata": {
        "id": "H0IGq63CUYvr"
      },
      "outputs": [],
      "source": [
        "from scipy.stats import ttest_ind, ttest_rel, ttest_1samp\n",
        "import numpy as np\n",
        "\n",
        "# Simulando dados fictícios para cada situação\n",
        "grupo1 = np.random.normal(loc=50, scale=5, size=30)\n",
        "grupo2 = np.random.normal(loc=52, scale=5, size=30)\n",
        "\n",
        "antes = np.random.normal(loc=60, scale=6, size=25)\n",
        "depois = antes + np.random.normal(loc=3, scale=2, size=25)\n",
        "\n",
        "amostra_unica = np.random.normal(loc=14.5, scale=3, size=40)\n",
        "valor_esperado = 15  # valor de H₀\n",
        "\n",
        "# ----------------------\n",
        "# Teste t independente\n",
        "# ----------------------\n",
        "\n",
        "# Teste bilateral (H₁: média1 ≠ média2)\n",
        "t_stat, p_bi = ttest_ind(grupo1, grupo2)\n",
        "print(\"ttest_ind (bilateral):\", t_stat, p_bi)\n",
        "\n",
        "# Teste unicaudal à direita (H₁: média1 > média2)\n",
        "p_dir = p_bi / 2 if t_stat > 0 else 1 - p_bi / 2\n",
        "print(\"ttest_ind (unicaudal direita):\", t_stat, p_dir)\n",
        "\n",
        "# Teste unicaudal à esquerda (H₁: média1 < média2)\n",
        "p_esq = p_bi / 2 if t_stat < 0 else 1 - p_bi / 2\n",
        "print(\"ttest_ind (unicaudal esquerda):\", t_stat, p_esq)\n",
        "\n",
        "# ----------------------\n",
        "# Teste t pareado\n",
        "# ----------------------\n",
        "\n",
        "# Teste bilateral (H₁: média_depois ≠ média_antes)\n",
        "t_stat2, p_bi2 = ttest_rel(depois, antes)\n",
        "print(\"ttest_rel (bilateral):\", t_stat2, p_bi2)\n",
        "\n",
        "# Teste unicaudal à direita (H₁: depois > antes)\n",
        "p_direita = p_bi2 / 2 if t_stat2 > 0 else 1 - p_bi2 / 2\n",
        "print(\"ttest_rel (unicaudal direita):\", t_stat2, p_direita)\n",
        "\n",
        "# ----------------------\n",
        "# Teste t para 1 amostra\n",
        "# ----------------------\n",
        "\n",
        "# Teste bilateral (H₁: média ≠ valor_esperado)\n",
        "t_stat3, p_bi3 = ttest_1samp(amostra_unica, popmean=valor_esperado)\n",
        "print(\"ttest_1samp (bilateral):\", t_stat3, p_bi3)\n",
        "\n",
        "# Teste unicaudal à esquerda (H₁: média < valor_esperado)\n",
        "p_unicaudal_esq = p_bi3 / 2 if t_stat3 < 0 else 1 - p_bi3 / 2\n",
        "print(\"ttest_1samp (unicaudal esquerda):\", t_stat3, p_unicaudal_esq)\n"
      ]
    }
  ]
}