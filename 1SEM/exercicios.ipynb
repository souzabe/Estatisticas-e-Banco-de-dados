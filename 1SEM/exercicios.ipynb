{
 "cells": [
  {
   "cell_type": "code",
   "execution_count": 1,
   "metadata": {},
   "outputs": [],
   "source": [
    "import pandas as pd"
   ]
  },
  {
   "cell_type": "markdown",
   "metadata": {},
   "source": [
    "Exercícios Filmes"
   ]
  },
  {
   "cell_type": "code",
   "execution_count": 5,
   "metadata": {},
   "outputs": [],
   "source": [
    "df = pd.read_csv('D:/Estatistica e Database/Estatisticas-e-Banco-de-dados/filmes.csv')"
   ]
  },
  {
   "cell_type": "code",
   "execution_count": 33,
   "metadata": {},
   "outputs": [
    {
     "data": {
      "text/plain": [
       "2917"
      ]
     },
     "execution_count": 33,
     "metadata": {},
     "output_type": "execute_result"
    }
   ],
   "source": [
    "# Ex1 Filmes\n",
    "\n",
    "df[df['Gênero']== \"Ficção Científica\"]\n"
   ]
  },
  {
   "cell_type": "code",
   "execution_count": 23,
   "metadata": {},
   "outputs": [
    {
     "data": {
      "text/html": [
       "<div>\n",
       "<style scoped>\n",
       "    .dataframe tbody tr th:only-of-type {\n",
       "        vertical-align: middle;\n",
       "    }\n",
       "\n",
       "    .dataframe tbody tr th {\n",
       "        vertical-align: top;\n",
       "    }\n",
       "\n",
       "    .dataframe thead th {\n",
       "        text-align: right;\n",
       "    }\n",
       "</style>\n",
       "<table border=\"1\" class=\"dataframe\">\n",
       "  <thead>\n",
       "    <tr style=\"text-align: right;\">\n",
       "      <th></th>\n",
       "      <th>Título</th>\n",
       "      <th>Ano</th>\n",
       "      <th>Bilheteria_Mundial</th>\n",
       "      <th>Nota_IMDb</th>\n",
       "      <th>Duração_Minutos</th>\n",
       "      <th>Gênero</th>\n",
       "    </tr>\n",
       "  </thead>\n",
       "  <tbody>\n",
       "    <tr>\n",
       "      <th>0</th>\n",
       "      <td>O Poderoso Chefão</td>\n",
       "      <td>1972</td>\n",
       "      <td>287</td>\n",
       "      <td>9.2</td>\n",
       "      <td>175</td>\n",
       "      <td>Crime</td>\n",
       "    </tr>\n",
       "  </tbody>\n",
       "</table>\n",
       "</div>"
      ],
      "text/plain": [
       "              Título   Ano  Bilheteria_Mundial  Nota_IMDb  Duração_Minutos  \\\n",
       "0  O Poderoso Chefão  1972                 287        9.2              175   \n",
       "\n",
       "  Gênero  \n",
       "0  Crime  "
      ]
     },
     "execution_count": 23,
     "metadata": {},
     "output_type": "execute_result"
    }
   ],
   "source": [
    "# ex 2\n",
    "ano = df['Ano'].min()\n",
    "\n",
    "df[df['Ano'] == ano]\n",
    "\n"
   ]
  },
  {
   "cell_type": "code",
   "execution_count": 19,
   "metadata": {},
   "outputs": [
    {
     "data": {
      "text/plain": [
       "1114.6"
      ]
     },
     "execution_count": 19,
     "metadata": {},
     "output_type": "execute_result"
    }
   ],
   "source": [
    "# ex3\n",
    "df['Bilheteria_Mundial'].mean()"
   ]
  },
  {
   "cell_type": "code",
   "execution_count": 26,
   "metadata": {},
   "outputs": [
    {
     "data": {
      "text/html": [
       "<div>\n",
       "<style scoped>\n",
       "    .dataframe tbody tr th:only-of-type {\n",
       "        vertical-align: middle;\n",
       "    }\n",
       "\n",
       "    .dataframe tbody tr th {\n",
       "        vertical-align: top;\n",
       "    }\n",
       "\n",
       "    .dataframe thead th {\n",
       "        text-align: right;\n",
       "    }\n",
       "</style>\n",
       "<table border=\"1\" class=\"dataframe\">\n",
       "  <thead>\n",
       "    <tr style=\"text-align: right;\">\n",
       "      <th></th>\n",
       "      <th>Título</th>\n",
       "      <th>Ano</th>\n",
       "      <th>Bilheteria_Mundial</th>\n",
       "      <th>Nota_IMDb</th>\n",
       "      <th>Duração_Minutos</th>\n",
       "      <th>Gênero</th>\n",
       "    </tr>\n",
       "  </thead>\n",
       "  <tbody>\n",
       "    <tr>\n",
       "      <th>0</th>\n",
       "      <td>O Poderoso Chefão</td>\n",
       "      <td>1972</td>\n",
       "      <td>287</td>\n",
       "      <td>9.2</td>\n",
       "      <td>175</td>\n",
       "      <td>Crime</td>\n",
       "    </tr>\n",
       "  </tbody>\n",
       "</table>\n",
       "</div>"
      ],
      "text/plain": [
       "              Título   Ano  Bilheteria_Mundial  Nota_IMDb  Duração_Minutos  \\\n",
       "0  O Poderoso Chefão  1972                 287        9.2              175   \n",
       "\n",
       "  Gênero  \n",
       "0  Crime  "
      ]
     },
     "execution_count": 26,
     "metadata": {},
     "output_type": "execute_result"
    }
   ],
   "source": [
    "# ex4\n",
    "imdb = df['Nota_IMDb'].max()\n",
    "\n",
    "df[df['Nota_IMDb'] == imdb]"
   ]
  },
  {
   "cell_type": "code",
   "execution_count": 27,
   "metadata": {},
   "outputs": [
    {
     "data": {
      "text/html": [
       "<div>\n",
       "<style scoped>\n",
       "    .dataframe tbody tr th:only-of-type {\n",
       "        vertical-align: middle;\n",
       "    }\n",
       "\n",
       "    .dataframe tbody tr th {\n",
       "        vertical-align: top;\n",
       "    }\n",
       "\n",
       "    .dataframe thead th {\n",
       "        text-align: right;\n",
       "    }\n",
       "</style>\n",
       "<table border=\"1\" class=\"dataframe\">\n",
       "  <thead>\n",
       "    <tr style=\"text-align: right;\">\n",
       "      <th></th>\n",
       "      <th>Título</th>\n",
       "      <th>Ano</th>\n",
       "      <th>Bilheteria_Mundial</th>\n",
       "      <th>Nota_IMDb</th>\n",
       "      <th>Duração_Minutos</th>\n",
       "      <th>Gênero</th>\n",
       "    </tr>\n",
       "  </thead>\n",
       "  <tbody>\n",
       "    <tr>\n",
       "      <th>1</th>\n",
       "      <td>Titanic</td>\n",
       "      <td>1997</td>\n",
       "      <td>2187</td>\n",
       "      <td>7.8</td>\n",
       "      <td>195</td>\n",
       "      <td>Romance</td>\n",
       "    </tr>\n",
       "    <tr>\n",
       "      <th>4</th>\n",
       "      <td>Vingadores: Ultimato</td>\n",
       "      <td>2019</td>\n",
       "      <td>2798</td>\n",
       "      <td>8.4</td>\n",
       "      <td>181</td>\n",
       "      <td>Ação</td>\n",
       "    </tr>\n",
       "    <tr>\n",
       "      <th>7</th>\n",
       "      <td>O Senhor dos Anéis</td>\n",
       "      <td>2001</td>\n",
       "      <td>2917</td>\n",
       "      <td>8.8</td>\n",
       "      <td>178</td>\n",
       "      <td>Fantasia</td>\n",
       "    </tr>\n",
       "    <tr>\n",
       "      <th>0</th>\n",
       "      <td>O Poderoso Chefão</td>\n",
       "      <td>1972</td>\n",
       "      <td>287</td>\n",
       "      <td>9.2</td>\n",
       "      <td>175</td>\n",
       "      <td>Crime</td>\n",
       "    </tr>\n",
       "    <tr>\n",
       "      <th>2</th>\n",
       "      <td>Interestelar</td>\n",
       "      <td>2014</td>\n",
       "      <td>701</td>\n",
       "      <td>8.6</td>\n",
       "      <td>169</td>\n",
       "      <td>Ficção Científica</td>\n",
       "    </tr>\n",
       "    <tr>\n",
       "      <th>9</th>\n",
       "      <td>Duna</td>\n",
       "      <td>2021</td>\n",
       "      <td>402</td>\n",
       "      <td>8.0</td>\n",
       "      <td>155</td>\n",
       "      <td>Ficção Científica</td>\n",
       "    </tr>\n",
       "    <tr>\n",
       "      <th>6</th>\n",
       "      <td>Pulp Fiction</td>\n",
       "      <td>1994</td>\n",
       "      <td>213</td>\n",
       "      <td>8.9</td>\n",
       "      <td>154</td>\n",
       "      <td>Crime</td>\n",
       "    </tr>\n",
       "    <tr>\n",
       "      <th>5</th>\n",
       "      <td>Clube da Luta</td>\n",
       "      <td>1999</td>\n",
       "      <td>101</td>\n",
       "      <td>8.8</td>\n",
       "      <td>139</td>\n",
       "      <td>Drama</td>\n",
       "    </tr>\n",
       "    <tr>\n",
       "      <th>3</th>\n",
       "      <td>Matrix</td>\n",
       "      <td>1999</td>\n",
       "      <td>466</td>\n",
       "      <td>8.7</td>\n",
       "      <td>136</td>\n",
       "      <td>Ficção Científica</td>\n",
       "    </tr>\n",
       "    <tr>\n",
       "      <th>8</th>\n",
       "      <td>Coringa</td>\n",
       "      <td>2019</td>\n",
       "      <td>1074</td>\n",
       "      <td>8.4</td>\n",
       "      <td>122</td>\n",
       "      <td>Drama</td>\n",
       "    </tr>\n",
       "  </tbody>\n",
       "</table>\n",
       "</div>"
      ],
      "text/plain": [
       "                 Título   Ano  Bilheteria_Mundial  Nota_IMDb  Duração_Minutos  \\\n",
       "1               Titanic  1997                2187        7.8              195   \n",
       "4  Vingadores: Ultimato  2019                2798        8.4              181   \n",
       "7    O Senhor dos Anéis  2001                2917        8.8              178   \n",
       "0     O Poderoso Chefão  1972                 287        9.2              175   \n",
       "2          Interestelar  2014                 701        8.6              169   \n",
       "9                  Duna  2021                 402        8.0              155   \n",
       "6          Pulp Fiction  1994                 213        8.9              154   \n",
       "5         Clube da Luta  1999                 101        8.8              139   \n",
       "3                Matrix  1999                 466        8.7              136   \n",
       "8               Coringa  2019                1074        8.4              122   \n",
       "\n",
       "              Gênero  \n",
       "1            Romance  \n",
       "4               Ação  \n",
       "7           Fantasia  \n",
       "0              Crime  \n",
       "2  Ficção Científica  \n",
       "9  Ficção Científica  \n",
       "6              Crime  \n",
       "5              Drama  \n",
       "3  Ficção Científica  \n",
       "8              Drama  "
      ]
     },
     "execution_count": 27,
     "metadata": {},
     "output_type": "execute_result"
    }
   ],
   "source": [
    "# ex5\n",
    "df.sort_values(by=\"Duração_Minutos\", ascending=False)"
   ]
  },
  {
   "cell_type": "code",
   "execution_count": 28,
   "metadata": {},
   "outputs": [
    {
     "data": {
      "text/plain": [
       "11146"
      ]
     },
     "execution_count": 28,
     "metadata": {},
     "output_type": "execute_result"
    }
   ],
   "source": [
    "# ex6\n",
    "df['Bilheteria_Mundial'].sum()"
   ]
  },
  {
   "cell_type": "code",
   "execution_count": 29,
   "metadata": {},
   "outputs": [
    {
     "data": {
      "text/html": [
       "<div>\n",
       "<style scoped>\n",
       "    .dataframe tbody tr th:only-of-type {\n",
       "        vertical-align: middle;\n",
       "    }\n",
       "\n",
       "    .dataframe tbody tr th {\n",
       "        vertical-align: top;\n",
       "    }\n",
       "\n",
       "    .dataframe thead th {\n",
       "        text-align: right;\n",
       "    }\n",
       "</style>\n",
       "<table border=\"1\" class=\"dataframe\">\n",
       "  <thead>\n",
       "    <tr style=\"text-align: right;\">\n",
       "      <th></th>\n",
       "      <th>Título</th>\n",
       "      <th>Ano</th>\n",
       "      <th>Bilheteria_Mundial</th>\n",
       "      <th>Nota_IMDb</th>\n",
       "      <th>Duração_Minutos</th>\n",
       "      <th>Gênero</th>\n",
       "    </tr>\n",
       "  </thead>\n",
       "  <tbody>\n",
       "    <tr>\n",
       "      <th>3</th>\n",
       "      <td>Matrix</td>\n",
       "      <td>1999</td>\n",
       "      <td>466</td>\n",
       "      <td>8.7</td>\n",
       "      <td>136</td>\n",
       "      <td>Ficção Científica</td>\n",
       "    </tr>\n",
       "    <tr>\n",
       "      <th>5</th>\n",
       "      <td>Clube da Luta</td>\n",
       "      <td>1999</td>\n",
       "      <td>101</td>\n",
       "      <td>8.8</td>\n",
       "      <td>139</td>\n",
       "      <td>Drama</td>\n",
       "    </tr>\n",
       "    <tr>\n",
       "      <th>8</th>\n",
       "      <td>Coringa</td>\n",
       "      <td>2019</td>\n",
       "      <td>1074</td>\n",
       "      <td>8.4</td>\n",
       "      <td>122</td>\n",
       "      <td>Drama</td>\n",
       "    </tr>\n",
       "  </tbody>\n",
       "</table>\n",
       "</div>"
      ],
      "text/plain": [
       "          Título   Ano  Bilheteria_Mundial  Nota_IMDb  Duração_Minutos  \\\n",
       "3         Matrix  1999                 466        8.7              136   \n",
       "5  Clube da Luta  1999                 101        8.8              139   \n",
       "8        Coringa  2019                1074        8.4              122   \n",
       "\n",
       "              Gênero  \n",
       "3  Ficção Científica  \n",
       "5              Drama  \n",
       "8              Drama  "
      ]
     },
     "execution_count": 29,
     "metadata": {},
     "output_type": "execute_result"
    }
   ],
   "source": [
    "# ex7\n",
    "df[df['Duração_Minutos'] < 150]"
   ]
  },
  {
   "cell_type": "code",
   "execution_count": 30,
   "metadata": {},
   "outputs": [
    {
     "data": {
      "text/html": [
       "<div>\n",
       "<style scoped>\n",
       "    .dataframe tbody tr th:only-of-type {\n",
       "        vertical-align: middle;\n",
       "    }\n",
       "\n",
       "    .dataframe tbody tr th {\n",
       "        vertical-align: top;\n",
       "    }\n",
       "\n",
       "    .dataframe thead th {\n",
       "        text-align: right;\n",
       "    }\n",
       "</style>\n",
       "<table border=\"1\" class=\"dataframe\">\n",
       "  <thead>\n",
       "    <tr style=\"text-align: right;\">\n",
       "      <th></th>\n",
       "      <th>Título</th>\n",
       "      <th>Ano</th>\n",
       "      <th>Bilheteria_Mundial</th>\n",
       "      <th>Nota_IMDb</th>\n",
       "      <th>Duração_Minutos</th>\n",
       "      <th>Gênero</th>\n",
       "    </tr>\n",
       "  </thead>\n",
       "  <tbody>\n",
       "    <tr>\n",
       "      <th>2</th>\n",
       "      <td>Interestelar</td>\n",
       "      <td>2014</td>\n",
       "      <td>701</td>\n",
       "      <td>8.6</td>\n",
       "      <td>169</td>\n",
       "      <td>Ficção Científica</td>\n",
       "    </tr>\n",
       "    <tr>\n",
       "      <th>4</th>\n",
       "      <td>Vingadores: Ultimato</td>\n",
       "      <td>2019</td>\n",
       "      <td>2798</td>\n",
       "      <td>8.4</td>\n",
       "      <td>181</td>\n",
       "      <td>Ação</td>\n",
       "    </tr>\n",
       "    <tr>\n",
       "      <th>7</th>\n",
       "      <td>O Senhor dos Anéis</td>\n",
       "      <td>2001</td>\n",
       "      <td>2917</td>\n",
       "      <td>8.8</td>\n",
       "      <td>178</td>\n",
       "      <td>Fantasia</td>\n",
       "    </tr>\n",
       "    <tr>\n",
       "      <th>8</th>\n",
       "      <td>Coringa</td>\n",
       "      <td>2019</td>\n",
       "      <td>1074</td>\n",
       "      <td>8.4</td>\n",
       "      <td>122</td>\n",
       "      <td>Drama</td>\n",
       "    </tr>\n",
       "    <tr>\n",
       "      <th>9</th>\n",
       "      <td>Duna</td>\n",
       "      <td>2021</td>\n",
       "      <td>402</td>\n",
       "      <td>8.0</td>\n",
       "      <td>155</td>\n",
       "      <td>Ficção Científica</td>\n",
       "    </tr>\n",
       "  </tbody>\n",
       "</table>\n",
       "</div>"
      ],
      "text/plain": [
       "                 Título   Ano  Bilheteria_Mundial  Nota_IMDb  Duração_Minutos  \\\n",
       "2          Interestelar  2014                 701        8.6              169   \n",
       "4  Vingadores: Ultimato  2019                2798        8.4              181   \n",
       "7    O Senhor dos Anéis  2001                2917        8.8              178   \n",
       "8               Coringa  2019                1074        8.4              122   \n",
       "9                  Duna  2021                 402        8.0              155   \n",
       "\n",
       "              Gênero  \n",
       "2  Ficção Científica  \n",
       "4               Ação  \n",
       "7           Fantasia  \n",
       "8              Drama  \n",
       "9  Ficção Científica  "
      ]
     },
     "execution_count": 30,
     "metadata": {},
     "output_type": "execute_result"
    }
   ],
   "source": [
    "# ex8\n",
    "df[df['Ano'] > 2000]"
   ]
  },
  {
   "cell_type": "code",
   "execution_count": 31,
   "metadata": {},
   "outputs": [
    {
     "data": {
      "text/plain": [
       "160.4"
      ]
     },
     "execution_count": 31,
     "metadata": {},
     "output_type": "execute_result"
    }
   ],
   "source": [
    "# ex9\n",
    "df['Duração_Minutos'].mean()"
   ]
  },
  {
   "cell_type": "code",
   "execution_count": 34,
   "metadata": {},
   "outputs": [
    {
     "data": {
      "text/html": [
       "<div>\n",
       "<style scoped>\n",
       "    .dataframe tbody tr th:only-of-type {\n",
       "        vertical-align: middle;\n",
       "    }\n",
       "\n",
       "    .dataframe tbody tr th {\n",
       "        vertical-align: top;\n",
       "    }\n",
       "\n",
       "    .dataframe thead th {\n",
       "        text-align: right;\n",
       "    }\n",
       "</style>\n",
       "<table border=\"1\" class=\"dataframe\">\n",
       "  <thead>\n",
       "    <tr style=\"text-align: right;\">\n",
       "      <th></th>\n",
       "      <th>Título</th>\n",
       "      <th>Ano</th>\n",
       "      <th>Bilheteria_Mundial</th>\n",
       "      <th>Nota_IMDb</th>\n",
       "      <th>Duração_Minutos</th>\n",
       "      <th>Gênero</th>\n",
       "    </tr>\n",
       "  </thead>\n",
       "  <tbody>\n",
       "    <tr>\n",
       "      <th>7</th>\n",
       "      <td>O Senhor dos Anéis</td>\n",
       "      <td>2001</td>\n",
       "      <td>2917</td>\n",
       "      <td>8.8</td>\n",
       "      <td>178</td>\n",
       "      <td>Fantasia</td>\n",
       "    </tr>\n",
       "  </tbody>\n",
       "</table>\n",
       "</div>"
      ],
      "text/plain": [
       "               Título   Ano  Bilheteria_Mundial  Nota_IMDb  Duração_Minutos  \\\n",
       "7  O Senhor dos Anéis  2001                2917        8.8              178   \n",
       "\n",
       "     Gênero  \n",
       "7  Fantasia  "
      ]
     },
     "execution_count": 34,
     "metadata": {},
     "output_type": "execute_result"
    }
   ],
   "source": [
    "# ex10\n",
    "Bilheteria_max = df['Bilheteria_Mundial'].max()\n",
    "\n",
    "df[df['Bilheteria_Mundial']== Bilheteria_max]\n"
   ]
  },
  {
   "cell_type": "markdown",
   "metadata": {},
   "source": [
    "Exercícios Corinthians 🦨"
   ]
  },
  {
   "cell_type": "code",
   "execution_count": 38,
   "metadata": {},
   "outputs": [],
   "source": [
    "#Lendo o DF\n",
    "\n",
    "df = pd.read_csv('D:/Estatistica e Database/Estatisticas-e-Banco-de-dados/todo poderoso timão.csv')"
   ]
  },
  {
   "cell_type": "code",
   "execution_count": 63,
   "metadata": {},
   "outputs": [
    {
     "data": {
      "text/html": [
       "<div>\n",
       "<style scoped>\n",
       "    .dataframe tbody tr th:only-of-type {\n",
       "        vertical-align: middle;\n",
       "    }\n",
       "\n",
       "    .dataframe tbody tr th {\n",
       "        vertical-align: top;\n",
       "    }\n",
       "\n",
       "    .dataframe thead th {\n",
       "        text-align: right;\n",
       "    }\n",
       "</style>\n",
       "<table border=\"1\" class=\"dataframe\">\n",
       "  <thead>\n",
       "    <tr style=\"text-align: right;\">\n",
       "      <th></th>\n",
       "      <th>Ano</th>\n",
       "      <th>Jogos</th>\n",
       "      <th>Vitórias</th>\n",
       "      <th>Empates</th>\n",
       "      <th>Derrotas</th>\n",
       "      <th>Gols_Marcados</th>\n",
       "      <th>Gols_Sofridos</th>\n",
       "      <th>Posição_Campeonato</th>\n",
       "      <th>Média_Gols_Sofridos</th>\n",
       "      <th>Pontos</th>\n",
       "    </tr>\n",
       "  </thead>\n",
       "  <tbody>\n",
       "    <tr>\n",
       "      <th>9</th>\n",
       "      <td>2024</td>\n",
       "      <td>64</td>\n",
       "      <td>22</td>\n",
       "      <td>6</td>\n",
       "      <td>5</td>\n",
       "      <td>89</td>\n",
       "      <td>48</td>\n",
       "      <td>19</td>\n",
       "      <td>0.75</td>\n",
       "      <td>72</td>\n",
       "    </tr>\n",
       "  </tbody>\n",
       "</table>\n",
       "</div>"
      ],
      "text/plain": [
       "    Ano  Jogos  Vitórias  Empates  Derrotas  Gols_Marcados  Gols_Sofridos  \\\n",
       "9  2024     64        22        6         5             89             48   \n",
       "\n",
       "   Posição_Campeonato  Média_Gols_Sofridos  Pontos  \n",
       "9                  19                 0.75      72  "
      ]
     },
     "execution_count": 63,
     "metadata": {},
     "output_type": "execute_result"
    }
   ],
   "source": [
    "# ex4\n",
    "min_Derrotas = df['Derrotas'].min()\n",
    "df[df['Derrotas'] == min_Derrotas]"
   ]
  },
  {
   "cell_type": "code",
   "execution_count": 71,
   "metadata": {},
   "outputs": [
    {
     "data": {
      "text/html": [
       "<div>\n",
       "<style scoped>\n",
       "    .dataframe tbody tr th:only-of-type {\n",
       "        vertical-align: middle;\n",
       "    }\n",
       "\n",
       "    .dataframe tbody tr th {\n",
       "        vertical-align: top;\n",
       "    }\n",
       "\n",
       "    .dataframe thead th {\n",
       "        text-align: right;\n",
       "    }\n",
       "</style>\n",
       "<table border=\"1\" class=\"dataframe\">\n",
       "  <thead>\n",
       "    <tr style=\"text-align: right;\">\n",
       "      <th></th>\n",
       "      <th>Ano</th>\n",
       "      <th>Jogos</th>\n",
       "      <th>Vitórias</th>\n",
       "      <th>Empates</th>\n",
       "      <th>Derrotas</th>\n",
       "      <th>Gols_Marcados</th>\n",
       "      <th>Gols_Sofridos</th>\n",
       "      <th>Posição_Campeonato</th>\n",
       "      <th>Média_Gols_Sofridos</th>\n",
       "      <th>Pontos</th>\n",
       "      <th>TaxaVitórias</th>\n",
       "    </tr>\n",
       "  </thead>\n",
       "  <tbody>\n",
       "    <tr>\n",
       "      <th>1</th>\n",
       "      <td>2016</td>\n",
       "      <td>42</td>\n",
       "      <td>27</td>\n",
       "      <td>10</td>\n",
       "      <td>11</td>\n",
       "      <td>85</td>\n",
       "      <td>29</td>\n",
       "      <td>4</td>\n",
       "      <td>0.690476</td>\n",
       "      <td>91</td>\n",
       "      <td>64.285714</td>\n",
       "    </tr>\n",
       "    <tr>\n",
       "      <th>5</th>\n",
       "      <td>2020</td>\n",
       "      <td>45</td>\n",
       "      <td>32</td>\n",
       "      <td>8</td>\n",
       "      <td>6</td>\n",
       "      <td>72</td>\n",
       "      <td>49</td>\n",
       "      <td>2</td>\n",
       "      <td>1.088889</td>\n",
       "      <td>104</td>\n",
       "      <td>71.111111</td>\n",
       "    </tr>\n",
       "    <tr>\n",
       "      <th>6</th>\n",
       "      <td>2021</td>\n",
       "      <td>49</td>\n",
       "      <td>35</td>\n",
       "      <td>12</td>\n",
       "      <td>8</td>\n",
       "      <td>70</td>\n",
       "      <td>20</td>\n",
       "      <td>18</td>\n",
       "      <td>0.408163</td>\n",
       "      <td>117</td>\n",
       "      <td>71.428571</td>\n",
       "    </tr>\n",
       "    <tr>\n",
       "      <th>7</th>\n",
       "      <td>2022</td>\n",
       "      <td>40</td>\n",
       "      <td>36</td>\n",
       "      <td>7</td>\n",
       "      <td>10</td>\n",
       "      <td>70</td>\n",
       "      <td>34</td>\n",
       "      <td>13</td>\n",
       "      <td>0.850000</td>\n",
       "      <td>115</td>\n",
       "      <td>90.000000</td>\n",
       "    </tr>\n",
       "    <tr>\n",
       "      <th>9</th>\n",
       "      <td>2024</td>\n",
       "      <td>64</td>\n",
       "      <td>22</td>\n",
       "      <td>6</td>\n",
       "      <td>5</td>\n",
       "      <td>89</td>\n",
       "      <td>48</td>\n",
       "      <td>19</td>\n",
       "      <td>0.750000</td>\n",
       "      <td>72</td>\n",
       "      <td>34.375000</td>\n",
       "    </tr>\n",
       "  </tbody>\n",
       "</table>\n",
       "</div>"
      ],
      "text/plain": [
       "    Ano  Jogos  Vitórias  Empates  Derrotas  Gols_Marcados  Gols_Sofridos  \\\n",
       "1  2016     42        27       10        11             85             29   \n",
       "5  2020     45        32        8         6             72             49   \n",
       "6  2021     49        35       12         8             70             20   \n",
       "7  2022     40        36        7        10             70             34   \n",
       "9  2024     64        22        6         5             89             48   \n",
       "\n",
       "   Posição_Campeonato  Média_Gols_Sofridos  Pontos  TaxaVitórias  \n",
       "1                   4             0.690476      91     64.285714  \n",
       "5                   2             1.088889     104     71.111111  \n",
       "6                  18             0.408163     117     71.428571  \n",
       "7                  13             0.850000     115     90.000000  \n",
       "9                  19             0.750000      72     34.375000  "
      ]
     },
     "execution_count": 71,
     "metadata": {},
     "output_type": "execute_result"
    }
   ],
   "source": [
    "# ex5 -- Gamba\n",
    "\n",
    "df[df['Gols_Marcados'] > 60]"
   ]
  },
  {
   "cell_type": "code",
   "execution_count": 70,
   "metadata": {},
   "outputs": [
    {
     "name": "stdout",
     "output_type": "stream",
     "text": [
      " Ano  TaxaVitórias\n",
      "2015         49.18\n",
      "2016         64.29\n",
      "2017         50.72\n",
      "2018         57.45\n",
      "2019         58.93\n",
      "2020         71.11\n",
      "2021         71.43\n",
      "2022         90.00\n",
      "2023         56.60\n",
      "2024         34.38\n"
     ]
    }
   ],
   "source": [
    "# ex6\n",
    "\n",
    "df['TaxaVitórias'] = (df['Vitórias'] / df['Jogos']) * 100\n",
    "\n",
    "taxa_vitorias = df[['Ano', 'TaxaVitórias'] ].round(2)\n",
    "\n",
    "print(taxa_vitorias.to_string(index=False))"
   ]
  },
  {
   "cell_type": "code",
   "execution_count": 61,
   "metadata": {},
   "outputs": [
    {
     "name": "stdout",
     "output_type": "stream",
     "text": [
      " Ano  Pontos\n",
      "2021     117\n",
      "2022     115\n",
      "2017     111\n",
      "2019     110\n",
      "2015     104\n",
      "2020     104\n",
      "2023     103\n",
      "2018      92\n",
      "2016      91\n",
      "2024      72\n"
     ]
    }
   ],
   "source": [
    "# ex7\n",
    "df['Pontos'] = df['Vitórias'] * 3 + df['Empates']\n",
    "\n",
    "df_ordenado = df[['Ano', 'Pontos']].sort_values(by='Pontos', ascending=False)\n",
    "\n",
    "print(df_ordenado.to_string(index=False))\n",
    "\n"
   ]
  },
  {
   "cell_type": "code",
   "execution_count": 48,
   "metadata": {},
   "outputs": [
    {
     "data": {
      "text/html": [
       "<div>\n",
       "<style scoped>\n",
       "    .dataframe tbody tr th:only-of-type {\n",
       "        vertical-align: middle;\n",
       "    }\n",
       "\n",
       "    .dataframe tbody tr th {\n",
       "        vertical-align: top;\n",
       "    }\n",
       "\n",
       "    .dataframe thead th {\n",
       "        text-align: right;\n",
       "    }\n",
       "</style>\n",
       "<table border=\"1\" class=\"dataframe\">\n",
       "  <thead>\n",
       "    <tr style=\"text-align: right;\">\n",
       "      <th></th>\n",
       "      <th>Ano</th>\n",
       "      <th>Jogos</th>\n",
       "      <th>Vitórias</th>\n",
       "      <th>Empates</th>\n",
       "      <th>Derrotas</th>\n",
       "      <th>Gols_Marcados</th>\n",
       "      <th>Gols_Sofridos</th>\n",
       "      <th>Posição_Campeonato</th>\n",
       "    </tr>\n",
       "  </thead>\n",
       "  <tbody>\n",
       "    <tr>\n",
       "      <th>0</th>\n",
       "      <td>2015</td>\n",
       "      <td>61</td>\n",
       "      <td>30</td>\n",
       "      <td>14</td>\n",
       "      <td>12</td>\n",
       "      <td>49</td>\n",
       "      <td>59</td>\n",
       "      <td>19</td>\n",
       "    </tr>\n",
       "    <tr>\n",
       "      <th>9</th>\n",
       "      <td>2024</td>\n",
       "      <td>64</td>\n",
       "      <td>22</td>\n",
       "      <td>6</td>\n",
       "      <td>5</td>\n",
       "      <td>89</td>\n",
       "      <td>48</td>\n",
       "      <td>19</td>\n",
       "    </tr>\n",
       "  </tbody>\n",
       "</table>\n",
       "</div>"
      ],
      "text/plain": [
       "    Ano  Jogos  Vitórias  Empates  Derrotas  Gols_Marcados  Gols_Sofridos  \\\n",
       "0  2015     61        30       14        12             49             59   \n",
       "9  2024     64        22        6         5             89             48   \n",
       "\n",
       "   Posição_Campeonato  \n",
       "0                  19  \n",
       "9                  19  "
      ]
     },
     "execution_count": 48,
     "metadata": {},
     "output_type": "execute_result"
    }
   ],
   "source": [
    "# ex 8 -- Gamba\n",
    "Posição_min = df['Posição_Campeonato'].max()\n",
    "\n",
    "df[df['Posição_Campeonato'] == Posição_min]"
   ]
  },
  {
   "cell_type": "code",
   "execution_count": 44,
   "metadata": {},
   "outputs": [
    {
     "data": {
      "text/html": [
       "<div>\n",
       "<style scoped>\n",
       "    .dataframe tbody tr th:only-of-type {\n",
       "        vertical-align: middle;\n",
       "    }\n",
       "\n",
       "    .dataframe tbody tr th {\n",
       "        vertical-align: top;\n",
       "    }\n",
       "\n",
       "    .dataframe thead th {\n",
       "        text-align: right;\n",
       "    }\n",
       "</style>\n",
       "<table border=\"1\" class=\"dataframe\">\n",
       "  <thead>\n",
       "    <tr style=\"text-align: right;\">\n",
       "      <th></th>\n",
       "      <th>Ano</th>\n",
       "      <th>Jogos</th>\n",
       "      <th>Vitórias</th>\n",
       "      <th>Empates</th>\n",
       "      <th>Derrotas</th>\n",
       "      <th>Gols_Marcados</th>\n",
       "      <th>Gols_Sofridos</th>\n",
       "      <th>Posição_Campeonato</th>\n",
       "    </tr>\n",
       "  </thead>\n",
       "  <tbody>\n",
       "    <tr>\n",
       "      <th>2</th>\n",
       "      <td>2017</td>\n",
       "      <td>69</td>\n",
       "      <td>35</td>\n",
       "      <td>6</td>\n",
       "      <td>6</td>\n",
       "      <td>58</td>\n",
       "      <td>41</td>\n",
       "      <td>10</td>\n",
       "    </tr>\n",
       "  </tbody>\n",
       "</table>\n",
       "</div>"
      ],
      "text/plain": [
       "    Ano  Jogos  Vitórias  Empates  Derrotas  Gols_Marcados  Gols_Sofridos  \\\n",
       "2  2017     69        35        6         6             58             41   \n",
       "\n",
       "   Posição_Campeonato  \n",
       "2                  10  "
      ]
     },
     "execution_count": 44,
     "metadata": {},
     "output_type": "execute_result"
    }
   ],
   "source": [
    "# ex9 -- Gamba\n",
    "Jogos = df['Jogos'].max()\n",
    "\n",
    "df[df['Jogos'] == Jogos]"
   ]
  },
  {
   "cell_type": "code",
   "execution_count": 60,
   "metadata": {},
   "outputs": [
    {
     "name": "stdout",
     "output_type": "stream",
     "text": [
      " Ano  Média_Gols_Sofridos\n",
      "2015             0.967213\n",
      "2016             0.690476\n",
      "2017             0.594203\n",
      "2018             0.617021\n",
      "2019             0.517857\n",
      "2020             1.088889\n",
      "2021             0.408163\n",
      "2022             0.850000\n",
      "2023             0.905660\n",
      "2024             0.750000\n"
     ]
    }
   ],
   "source": [
    "# ex10 -- Gamba\n",
    "\n",
    "df['Média_Gols_Sofridos'] = df['Gols_Sofridos'] / df['Jogos']\n",
    "\n",
    "df_resultado = df[['Ano', 'Média_Gols_Sofridos']]\n",
    "\n",
    "print(df_resultado.to_string(index=False))\n",
    "\n",
    "\n",
    "\n"
   ]
  }
 ],
 "metadata": {
  "kernelspec": {
   "display_name": "base",
   "language": "python",
   "name": "python3"
  },
  "language_info": {
   "codemirror_mode": {
    "name": "ipython",
    "version": 3
   },
   "file_extension": ".py",
   "mimetype": "text/x-python",
   "name": "python",
   "nbconvert_exporter": "python",
   "pygments_lexer": "ipython3",
   "version": "3.11.7"
  }
 },
 "nbformat": 4,
 "nbformat_minor": 2
}
