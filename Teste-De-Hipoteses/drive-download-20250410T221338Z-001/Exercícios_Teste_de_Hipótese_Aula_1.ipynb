{
  "nbformat": 4,
  "nbformat_minor": 0,
  "metadata": {
    "colab": {
      "provenance": []
    },
    "kernelspec": {
      "name": "python3",
      "display_name": "Python 3"
    },
    "language_info": {
      "name": "python"
    }
  },
  "cells": [
    {
      "cell_type": "markdown",
      "source": [
        "## Exercício 1 — Teste t, variável independente, unicaudal à esquerda (Ex1_Turmas.csv)\n",
        "Enunciado:\n",
        "\n",
        "    Duas turmas diferentes de uma faculdade usaram métodos distintos de estudo para a mesma disciplina.\n",
        "    A Turma A utilizou o método tradicional, enquanto a Turma B usou uma nova técnica ativa.\n",
        "    A coordenação acredita que o novo método reduz o tempo de aprendizado, ou seja, espera-se que a nota da Turma B seja maior.\n",
        "\n",
        "    Você deve testar, com nível de significância de 5%, se a Turma B teve desempenho superior ao da Turma A.\n",
        "\n",
        "## Exercício 2 — Teste t, variável pareada, unicaudal à direita (Ex2_AntesDepois.csv)\n",
        "Enunciado:\n",
        "\n",
        "    Um grupo de 25 alunos foi avaliado antes e depois de participar de um curso intensivo de lógica matemática.\n",
        "    A instituição quer saber se o curso melhorou o desempenho dos alunos.\n",
        "\n",
        "    Use o teste t pareado para verificar se há evidência de aumento significativo nas notas após o curso, considerando α = 0.05.\n",
        "\n",
        "## Exercício 3 — Teste t, variável independente, bicaudal (Ex3_Estresse.csv)\n",
        "Enunciado:\n",
        "\n",
        "    A área de RH quer saber se existe diferença de nível de estresse entre colaboradores do setor de TI e do setor de RH.\n",
        "    Não há expectativa prévia sobre qual setor apresenta mais estresse — pode ser qualquer um.\n",
        "\n",
        "    Faça um teste t bicaudal para avaliar se os dois setores diferem em termos de estresse médio.\n",
        "\n",
        "## Exercício 4 — Teste t com 1 amostra (ttest_1samp) (Ex4_TempoEspera.csv)\n",
        "Enunciado:\n",
        "\n",
        "    A empresa afirma que o tempo médio de espera para atendimento no SAC é de 15 minutos.\n",
        "    Você coletou dados reais de 40 clientes e quer testar se o tempo médio atual é significativamente diferente do declarado.\n",
        "\n",
        "    Use o teste t para uma amostra e nível de significância de 5%."
      ],
      "metadata": {
        "id": "26WNJNpsEu8x"
      }
    },
    {
      "cell_type": "code",
      "execution_count": null,
      "metadata": {
        "id": "RCj6u0RtEs4y"
      },
      "outputs": [],
      "source": []
    }
  ]
}